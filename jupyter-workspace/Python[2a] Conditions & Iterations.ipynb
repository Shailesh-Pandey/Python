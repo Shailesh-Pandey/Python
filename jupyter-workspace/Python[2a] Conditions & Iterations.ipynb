{
 "cells": [
  {
   "cell_type": "markdown",
   "metadata": {},
   "source": [
    "# Coditional statements(if elif else)"
   ]
  },
  {
   "cell_type": "code",
   "execution_count": 2,
   "metadata": {},
   "outputs": [
    {
     "name": "stdout",
     "output_type": "stream",
     "text": [
      "bye\n"
     ]
    }
   ],
   "source": [
    "a=False\n",
    "\n",
    "if(a == True):\n",
    "    print('hi')\n",
    "else:\n",
    "    print('bye')"
   ]
  },
  {
   "cell_type": "code",
   "execution_count": 3,
   "metadata": {},
   "outputs": [
    {
     "name": "stdout",
     "output_type": "stream",
     "text": [
      "1 is the value\n"
     ]
    }
   ],
   "source": [
    "a=1\n",
    "if(a == 0):\n",
    "    print('0 is the value')\n",
    "elif(a == 1):\n",
    "    print('1 is the value')\n",
    "else:\n",
    "    print('Invalid value')"
   ]
  },
  {
   "cell_type": "code",
   "execution_count": 5,
   "metadata": {},
   "outputs": [
    {
     "name": "stdout",
     "output_type": "stream",
     "text": [
      "the value is b/w 0-20\n"
     ]
    }
   ],
   "source": [
    "a=10\n",
    "if(a > 0):\n",
    "    if(a<20):\n",
    "        print('the value is b/w 0-20')\n",
    "    else:\n",
    "        print('value is greater than 20')\n",
    "else:\n",
    "    print('value is a negative integer')\n"
   ]
  },
  {
   "cell_type": "code",
   "execution_count": null,
   "metadata": {},
   "outputs": [],
   "source": []
  },
  {
   "cell_type": "markdown",
   "metadata": {},
   "source": [
    "# Iterations"
   ]
  },
  {
   "cell_type": "markdown",
   "metadata": {},
   "source": [
    "# 1. For loops"
   ]
  },
  {
   "cell_type": "code",
   "execution_count": 21,
   "metadata": {},
   "outputs": [
    {
     "name": "stdout",
     "output_type": "stream",
     "text": [
      "2 30\n",
      "3 40\n",
      "4 50\n"
     ]
    }
   ],
   "source": [
    "list1 = [10,20,30,40,50]\n",
    "for i in range(2,len(list1)):\n",
    "    print(i, list1[i])"
   ]
  },
  {
   "cell_type": "code",
   "execution_count": 8,
   "metadata": {},
   "outputs": [
    {
     "name": "stdout",
     "output_type": "stream",
     "text": [
      "a\n",
      "b\n",
      "c\n"
     ]
    }
   ],
   "source": [
    "dict1 = {'a':12, 'b':23 , 'c':34}\n",
    "for val in dict1.keys():\n",
    "    print(val)"
   ]
  },
  {
   "cell_type": "code",
   "execution_count": 17,
   "metadata": {},
   "outputs": [
    {
     "name": "stdout",
     "output_type": "stream",
     "text": [
      "12\n",
      "23\n",
      "34\n"
     ]
    }
   ],
   "source": [
    "dict1 = {'a':12, 'b':23 , 'c':34}\n",
    "for i in dict1.values():\n",
    "    print(i)"
   ]
  },
  {
   "cell_type": "code",
   "execution_count": 16,
   "metadata": {},
   "outputs": [
    {
     "name": "stdout",
     "output_type": "stream",
     "text": [
      "1 2\n",
      "dict_items([('a', 12), ('b', 23), ('c', 34)])\n",
      "a 12\n",
      "b 23\n",
      "c 34\n"
     ]
    }
   ],
   "source": [
    "a,b = (1,2)\n",
    "print(a,b)\n",
    "print(dict1.items())\n",
    "dict1 = {'a':12, 'b':23 , 'c':34}\n",
    "for key,val in dict1.items():\n",
    "    print(key,val)"
   ]
  },
  {
   "cell_type": "code",
   "execution_count": 22,
   "metadata": {},
   "outputs": [
    {
     "name": "stdout",
     "output_type": "stream",
     "text": [
      "hi\n",
      "hi\n",
      "hi\n",
      "hi\n",
      "hi\n",
      "hi\n",
      "hi\n",
      "hi\n",
      "hi\n",
      "hi\n"
     ]
    }
   ],
   "source": [
    "for i in range(10):\n",
    "    print('hi')"
   ]
  },
  {
   "cell_type": "markdown",
   "metadata": {},
   "source": [
    "# 2. While loops"
   ]
  },
  {
   "cell_type": "code",
   "execution_count": 30,
   "metadata": {},
   "outputs": [
    {
     "name": "stdout",
     "output_type": "stream",
     "text": [
      "hello 8\n",
      "hello 6\n",
      "hello 4\n",
      "hello 2\n",
      "hello 0\n"
     ]
    }
   ],
   "source": [
    "a = 10\n",
    "while a>0:\n",
    "    a -=2\n",
    "    print('hello',a)\n",
    "    # a= a-1\n"
   ]
  },
  {
   "cell_type": "code",
   "execution_count": null,
   "metadata": {},
   "outputs": [],
   "source": []
  },
  {
   "cell_type": "code",
   "execution_count": null,
   "metadata": {},
   "outputs": [],
   "source": []
  },
  {
   "cell_type": "markdown",
   "metadata": {},
   "source": [
    "# Break, Pass and Continue"
   ]
  },
  {
   "cell_type": "code",
   "execution_count": 25,
   "metadata": {},
   "outputs": [
    {
     "name": "stdout",
     "output_type": "stream",
     "text": [
      "hello 0\n",
      "hello 1\n",
      "hello 2\n",
      "hello 3\n",
      "hello 4\n"
     ]
    }
   ],
   "source": [
    "a = 10\n",
    "for val in range(a):\n",
    "    if (val>=5):\n",
    "        break\n",
    "    print('hello',val)"
   ]
  },
  {
   "cell_type": "code",
   "execution_count": 33,
   "metadata": {},
   "outputs": [
    {
     "name": "stdout",
     "output_type": "stream",
     "text": [
      "Hi\n",
      "hello 0\n",
      "Hi\n",
      "hello 1\n",
      "Hi\n",
      "hello 2\n",
      "Hi\n",
      "hello 3\n",
      "Hi\n",
      "hello 4\n",
      "Hi\n",
      "Hi\n",
      "Hi\n",
      "Hi\n",
      "Hi\n"
     ]
    }
   ],
   "source": [
    "a = 10\n",
    "for val in range(a):\n",
    "    print('Hi')\n",
    "    if (val>=5):\n",
    "        continue\n",
    "    print('hello',val)"
   ]
  },
  {
   "cell_type": "code",
   "execution_count": 32,
   "metadata": {},
   "outputs": [
    {
     "name": "stdout",
     "output_type": "stream",
     "text": [
      "hello 0\n",
      "hello 1\n",
      "hello 2\n",
      "hello 3\n",
      "hello 4\n",
      "ss\n",
      "hello 5\n",
      "ss\n",
      "hello 6\n",
      "ss\n",
      "hello 7\n",
      "ss\n",
      "hello 8\n",
      "ss\n",
      "hello 9\n"
     ]
    }
   ],
   "source": [
    "a = 10\n",
    "for val in range(0,a):\n",
    "    if (val>=5):\n",
    "        print('ss')    \n",
    "    print('hello',val)"
   ]
  },
  {
   "cell_type": "code",
   "execution_count": 38,
   "metadata": {},
   "outputs": [
    {
     "name": "stdout",
     "output_type": "stream",
     "text": [
      "hello\n"
     ]
    }
   ],
   "source": [
    "a = -10\n",
    "if(a <0):\n",
    "    print('hello')"
   ]
  },
  {
   "cell_type": "code",
   "execution_count": 43,
   "metadata": {},
   "outputs": [
    {
     "name": "stdout",
     "output_type": "stream",
     "text": [
      "hi 8\n",
      "hello 8\n",
      "hi 6\n",
      "hello 6\n",
      "hi 4\n",
      "hi 2\n",
      "hi 0\n"
     ]
    }
   ],
   "source": [
    "a = 10\n",
    "while a>0:\n",
    "    a -=2\n",
    "    print('hi',a)\n",
    "    if(a <5):\n",
    "        continue\n",
    "    print('hello',a)\n",
    "    # a= a-1"
   ]
  },
  {
   "cell_type": "code",
   "execution_count": 44,
   "metadata": {},
   "outputs": [
    {
     "name": "stdout",
     "output_type": "stream",
     "text": [
      "hi\n",
      "hello 8\n",
      "hi\n",
      "hello 6\n",
      "hi\n",
      "sf\n"
     ]
    }
   ],
   "source": [
    "a = 10\n",
    "while a>0:\n",
    "    a -=2\n",
    "    print('hi')\n",
    "    if(a <5):\n",
    "        break\n",
    "    print('hello',a)\n",
    "    # a= a-1\n",
    "print('sf')"
   ]
  },
  {
   "cell_type": "code",
   "execution_count": null,
   "metadata": {},
   "outputs": [],
   "source": []
  }
 ],
 "metadata": {
  "kernelspec": {
   "display_name": "Python 3",
   "language": "python",
   "name": "python3"
  },
  "language_info": {
   "codemirror_mode": {
    "name": "ipython",
    "version": 3
   },
   "file_extension": ".py",
   "mimetype": "text/x-python",
   "name": "python",
   "nbconvert_exporter": "python",
   "pygments_lexer": "ipython3",
   "version": "3.6.5"
  }
 },
 "nbformat": 4,
 "nbformat_minor": 2
}
