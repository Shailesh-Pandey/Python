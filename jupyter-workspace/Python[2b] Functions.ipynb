{
 "cells": [
  {
   "cell_type": "markdown",
   "metadata": {},
   "source": [
    "# Functions"
   ]
  },
  {
   "cell_type": "code",
   "execution_count": 9,
   "metadata": {},
   "outputs": [
    {
     "name": "stdout",
     "output_type": "stream",
     "text": [
      "new value in function is:\n",
      "new value in function is:\n",
      "(2, 2, 3, 4, 5) <class 'tuple'>\n"
     ]
    }
   ],
   "source": [
    "def basicfun123():\n",
    "    print(\"new value in function is:\")\n",
    "    return 2,2,3,4,5\n",
    "a = basicfun123()\n",
    "print(basicfun123(), type(a))"
   ]
  },
  {
   "cell_type": "code",
   "execution_count": 10,
   "metadata": {},
   "outputs": [
    {
     "name": "stdout",
     "output_type": "stream",
     "text": [
      "new value in function is: 20\n",
      "Value(outside function): 10\n",
      "new value in function is: 20\n",
      "New Value(outside function: 20\n"
     ]
    }
   ],
   "source": [
    "#Call by value\n",
    "def basicfun1(val):\n",
    "    val = val*2\n",
    "    print(\"new value in function is:\",val)\n",
    "    return\n",
    "\n",
    "def basicfun2(val):\n",
    "    val = val*2\n",
    "    print(\"new value in function is:\",val)\n",
    "    return val\n",
    "\n",
    "# Now you can call changeme function\n",
    "value = 10\n",
    "basicfun1(value);\n",
    "print(\"Value(outside function):\", value)\n",
    "value = basicfun2(value);\n",
    "print(\"New Value(outside function:\", value)"
   ]
  },
  {
   "cell_type": "code",
   "execution_count": 13,
   "metadata": {},
   "outputs": [
    {
     "name": "stdout",
     "output_type": "stream",
     "text": [
      "old list: [1, 2, 3]\n",
      "[1, 2, 3, [1, 2, 3, 4]]\n",
      "new list: [1, 2, 3]\n"
     ]
    }
   ],
   "source": [
    "#call by reference\n",
    "def basicfun3(funlist1):\n",
    "    funlist1.append([1,2,3,4]);\n",
    "    print(funlist1)\n",
    "    return\n",
    "\n",
    "# Now you can call changeme function\n",
    "list1 = [1,2,3];\n",
    "print('old list:', list1)\n",
    "basicfun3(list1[:])\n",
    "print('new list:', list1)"
   ]
  },
  {
   "cell_type": "code",
   "execution_count": 24,
   "metadata": {},
   "outputs": [
    {
     "name": "stdout",
     "output_type": "stream",
     "text": [
      "Fun3 called\n"
     ]
    }
   ],
   "source": [
    "#fun1 = 10\n",
    "def fun1():\n",
    "    print(\"Fun1 called\")\n",
    "\n",
    "def fun2():\n",
    "    print(\"Fun2 called\")\n",
    "\n",
    "def fun3():\n",
    "    print(\"Fun3 called\")\n",
    "\n",
    "def fun4():\n",
    "    print(\"Fun4 called\")\n",
    "\n",
    "fun2 = 10\n",
    "switch = {0:fun1,1:fun2,2:fun3,3:fun4}\n",
    "switch[2]()\n",
    "#switch[0]\n",
    "#print(fun2)"
   ]
  },
  {
   "cell_type": "markdown",
   "metadata": {},
   "source": [
    "# Required arguments"
   ]
  },
  {
   "cell_type": "code",
   "execution_count": 21,
   "metadata": {},
   "outputs": [
    {
     "name": "stdout",
     "output_type": "stream",
     "text": [
      "90\n"
     ]
    }
   ],
   "source": [
    "def req_fun(value):\n",
    "   print(value)\n",
    "   return\n",
    "\n",
    "val = 90\n",
    "req_fun(val)"
   ]
  },
  {
   "cell_type": "markdown",
   "metadata": {},
   "source": [
    "# Keyword arguments"
   ]
  },
  {
   "cell_type": "code",
   "execution_count": 27,
   "metadata": {},
   "outputs": [
    {
     "name": "stdout",
     "output_type": "stream",
     "text": [
      "30\n"
     ]
    }
   ],
   "source": [
    "def key_fun(value, new):\n",
    "   print(value*new)\n",
    "   return\n",
    "\n",
    "val = 6\n",
    "key_fun(new = 5, value = val)"
   ]
  },
  {
   "cell_type": "markdown",
   "metadata": {},
   "source": [
    "# Default arguments"
   ]
  },
  {
   "cell_type": "code",
   "execution_count": 28,
   "metadata": {},
   "outputs": [
    {
     "name": "stdout",
     "output_type": "stream",
     "text": [
      "50\n",
      "90\n",
      "90\n"
     ]
    }
   ],
   "source": [
    "def def_fun(value, new=9):\n",
    "   print(value*new)\n",
    "   return\n",
    "\n",
    "\n",
    "def_fun(new = 5, value = 10)\n",
    "def_fun(value = 10)\n",
    "def_fun(10)"
   ]
  },
  {
   "cell_type": "markdown",
   "metadata": {},
   "source": [
    "# Variable-length arguments"
   ]
  },
  {
   "cell_type": "code",
   "execution_count": 29,
   "metadata": {},
   "outputs": [
    {
     "name": "stdout",
     "output_type": "stream",
     "text": [
      "First value: 1\n",
      "Variable length values: ()\n",
      "First value: 1\n",
      "Variable length values: (2, 3)\n",
      "2\n",
      "3\n"
     ]
    }
   ],
   "source": [
    "#variable length parameter is a tuple\n",
    "def var_fun( val1, *var):\n",
    "    print('First value:',val1)\n",
    "    print('Variable length values:', var)\n",
    "    for value in var:\n",
    "        print(value)\n",
    "    return\n",
    "\n",
    "var_fun(1)\n",
    "var_fun(1,2,3)"
   ]
  },
  {
   "cell_type": "code",
   "execution_count": 32,
   "metadata": {},
   "outputs": [
    {
     "name": "stdout",
     "output_type": "stream",
     "text": [
      "First value: 1\n",
      "Variable length values: ()\n",
      "First value: 3\n",
      "Variable length values: (1, 2)\n",
      "1\n",
      "2\n"
     ]
    }
   ],
   "source": [
    "def var_fun(*var, val1):\n",
    "    print('First value:',val1)\n",
    "    print('Variable length values:', var)\n",
    "    for value in var:\n",
    "        print(value)\n",
    "    return\n",
    "\n",
    "#var_fun(1)\n",
    "var_fun(val1=1)\n",
    "var_fun(1,2,val1=3)"
   ]
  },
  {
   "cell_type": "markdown",
   "metadata": {},
   "source": [
    "# Lambda functions"
   ]
  },
  {
   "cell_type": "code",
   "execution_count": 34,
   "metadata": {},
   "outputs": [
    {
     "name": "stdout",
     "output_type": "stream",
     "text": [
      "[2, 3]\n"
     ]
    }
   ],
   "source": [
    "lambda_fun = lambda a, b : [a,b]\n",
    "print(lambda_fun(2,3))\n",
    "#print(lambda_fun(2))"
   ]
  },
  {
   "cell_type": "code",
   "execution_count": 35,
   "metadata": {},
   "outputs": [
    {
     "name": "stdout",
     "output_type": "stream",
     "text": [
      "6\n",
      "10\n"
     ]
    }
   ],
   "source": [
    "lambda_fun = lambda a, b=5 : a * b\n",
    "print(lambda_fun(2,3))\n",
    "print(lambda_fun(2))"
   ]
  },
  {
   "cell_type": "code",
   "execution_count": null,
   "metadata": {},
   "outputs": [],
   "source": []
  },
  {
   "cell_type": "code",
   "execution_count": null,
   "metadata": {},
   "outputs": [],
   "source": []
  }
 ],
 "metadata": {
  "kernelspec": {
   "display_name": "Python 3",
   "language": "python",
   "name": "python3"
  },
  "language_info": {
   "codemirror_mode": {
    "name": "ipython",
    "version": 3
   },
   "file_extension": ".py",
   "mimetype": "text/x-python",
   "name": "python",
   "nbconvert_exporter": "python",
   "pygments_lexer": "ipython3",
   "version": "3.6.5"
  }
 },
 "nbformat": 4,
 "nbformat_minor": 2
}
